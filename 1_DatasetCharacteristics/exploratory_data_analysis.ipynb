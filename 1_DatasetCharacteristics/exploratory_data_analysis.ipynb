{
 "cells": [
  {
   "cell_type": "markdown",
   "metadata": {},
   "source": [
    "# Model Definition and Evaluation\n",
    "\n",
    "## Table of Contents\n",
    "1. [Model Definition](#model-definition)\n",
    "2. [Model Training](#model-training)\n",
    "3. [Model Evaluation](#model-evaluation)\n"
   ]
  },
  {
   "cell_type": "markdown",
   "metadata": {},
   "source": [
    "## Model Definition\n",
    "\n",
    "```python\n",
    "# Import necessary libraries\n",
    "from keras.models import Sequential\n",
    "from keras.layers import Dense, LSTM, Dropout\n",
    "from keras.callbacks import EarlyStopping, ReduceLROnPlateau\n",
    "\n",
    "# Function to build LSTM model\n",
    "def build_lstm_model(window_size, num_features):\n",
    "    model = Sequential()\n",
    "    model.add(LSTM(units=100, return_sequences=True, input_shape=(window_size, num_features)))\n",
    "    model.add(Dropout(0.3))\n",
    "    model.add(LSTM(units=100, return_sequences=True))\n",
    "    model.add(Dropout(0.3))\n",
    "    model.add(LSTM(units=100))\n",
    "    model.add(Dropout(0.3))\n",
    "    model.add(Dense(units=1))\n",
    "    model.compile(optimizer='adam', loss='mean_squared_error')\n",
    "    return model\n",
    "```\n"
   ]
  },
  {
   "cell_type": "markdown",
   "metadata": {},
   "source": [
    "## Model Training\n",
    "\n",
    "```python\n",
    "# Function to train LSTM model\n",
    "def train_lstm_model(model, x_train, y_train, epochs, batch_size):\n",
    "    early_stopping = EarlyStopping(monitor='loss', patience=10, restore_best_weights=True)\n",
    "    reduce_lr = ReduceLROnPlateau(monitor='loss', factor=0.2, patience=5, min_lr=0.001)\n",
    "    history = model.fit(x_train, y_train, epochs=epochs, batch_size=batch_size, verbose=1, callbacks=[early_stopping, reduce_lr])\n",
    "    return history\n",
    "```\n"
   ]
  },
  {
   "cell_type": "markdown",
   "metadata": {},
   "source": [
    "## Model Evaluation\n",
    "\n",
    "```python\n",
    "# Function to make predictions\n",
    "def make_predictions(model, x_test, close_scaler):\n",
    "    predictions = [close_scaler.inverse_transform([[model.predict(np.reshape(x_input, (1, x_input.shape[0], x_input.shape[1])))[0, 0]]])[0, 0] for x_input in x_test]\n",
    "    return np.array(predictions)\n",
    "\n",
    "# Function to calculate Directional Accuracy (DA)\n",
    "def calculate_da(predictions, true_values):\n",
    "    min_len = min(len(predictions), len(true_values))\n",
    "    correct_directions = sum(1 for i in range(1, min_len) if np.sign(predictions[i] - predictions[i-1]) == np.sign(true_values[i] - true_values[i-1]))\n",
    "    directional_accuracy = correct_directions / (min_len - 1)\n",
    "    return directional_accuracy\n",
    "\n",
    "# Function to calculate Mean Absolute Error (MAE)\n",
    "def calculate_mae(predictions, true_values):\n",
    "    min_len = min(len(predictions), len(true_values))\n",
    "    mae = np.mean(np.abs(predictions[:min_len] - true_values[:min_len]))\n",
    "    return mae\n",
    "\n",
    "# Main function\n",
    "def main():\n",
    "    try:\n",
    "        # Your main function code here\n",
    "        ...\n",
    "    except Exception as e:\n",
    "        print(\"An error occurred:\", str(e))\n",
    "\n",
    "if __name__ == \"__main__\":\n",
    "    main()\n",
    "```\n"
   ]
  }
 ]
}
