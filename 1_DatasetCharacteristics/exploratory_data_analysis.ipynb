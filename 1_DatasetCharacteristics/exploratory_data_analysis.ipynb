# Install the ta library
!pip install ta

# Importing necessary libraries
import numpy as np
import pandas as pd
import yfinance as yf
import matplotlib.pyplot as plt
from sklearn.preprocessing import RobustScaler
from keras.models import Sequential
from keras.layers import Dense, LSTM, Dropout
from keras.callbacks import EarlyStopping, ReduceLROnPlateau
import ta  # Technical analysis library

plt.style.use('fivethirtyeight')

# Function to download stock data from Yahoo Finance
def download_stock_data(ticker, start_date, end_date):
    print("Downloading stock data...")
    data = yf.download(ticker, start=start_date, end=end_date)
    print("Data downloaded successfully!")
    return data

# Function to plot closing price history
def plot_close_price_history(data):
    print("Plotting close price history...")
    plt.figure(figsize=(16,8))
    plt.title('Close Price History')
    plt.plot(data['Close'])
    plt.xlabel('Date', fontsize=18)
    plt.ylabel('Close Price USD ($)', fontsize=18)
    plt.show()

# Function to add technical indicators
def add_technical_indicators(data):
    print("Adding technical indicators...")
    data['SMA'] = ta.trend.sma_indicator(data['Close'], window=15)
    data['EMA'] = ta.trend.ema_indicator(data['Close'], window=15)
    data['RSI'] = ta.momentum.rsi(data['Close'], window=14)
    data['MACD'] = ta.trend.macd_diff(data['Close'])
    data['Bollinger_High'] = ta.volatility.bollinger_hband(data['Close'])
    data['Bollinger_Low'] = ta.volatility.bollinger_lband(data['Close'])
    print("Technical indicators added successfully!")
    return data

# Function to prepare training data with additional features
def prepare_training_data(data, window_size):
    print("Preparing training data...")
    scaler = RobustScaler()
    close_scaler = RobustScaler()
    close_prices = data[:, 0].reshape(-1, 1)
    close_scaler.fit(close_prices)
    scaled_data = scaler.fit_transform(data)
    x_train, y_train = [], []

    for i in range(window_size, len(scaled_data)):
        x_train.append(scaled_data[i-window_size:i, :])
        y_train.append(scaled_data[i, 0])

    print("Training data prepared!")
    return np.array(x_train), np.array(y_train), scaler, close_scaler

# Function to build LSTM model
def build_lstm_model(window_size, num_features):
    print("Building LSTM model...")
    model = Sequential()
    model.add(LSTM(units=100, return_sequences=True, input_shape=(window_size, num_features)))
    model.add(Dropout(0.3))
    model.add(LSTM(units=100, return_sequences=True))
    model.add(Dropout(0.3))
    model.add(LSTM(units=100))
    model.add(Dropout(0.3))
    model.add(Dense(units=1))
    model.compile(optimizer='adam', loss='mean_squared_error')
    print("Model built successfully!")
    return model

# Function to train LSTM model
def train_lstm_model(model, x_train, y_train, epochs, batch_size):
    print("Training LSTM model...")
    early_stopping = EarlyStopping(monitor='loss', patience=10, restore_best_weights=True)
    reduce_lr = ReduceLROnPlateau(monitor='loss', factor=0.2, patience=5, min_lr=0.001)
    history = model.fit(x_train, y_train, epochs=epochs, batch_size=batch_size, verbose=1, callbacks=[early_stopping, reduce_lr])
    print("Model trained successfully!")
    return history

# Function to prepare and reshape test data
def prepare_test_data(data, scaler, window_size):
    print("Preparing test data...")
    scaled_data = scaler.transform(data)
    x_test = [scaled_data[i-window_size:i, :] for i in range(window_size, len(scaled_data))]
    x_test = np.array(x_test)
    print("Test data prepared!")
    return x_test

# Function to make predictions
def make_predictions(model, x_test, close_scaler):
    print("Making predictions...")
    predictions = [close_scaler.inverse_transform([[model.predict(np.reshape(x_input, (1, x_input.shape[0], x_input.shape[1])))[0, 0]]])[0, 0] for x_input in x_test]
    print("Predictions made successfully!")
    return np.array(predictions)

# Function to calculate Directional Accuracy (DA)
def calculate_da(predictions, true_values):
    min_len = min(len(predictions), len(true_values))
    correct_directions = sum(1 for i in range(1, min_len) if np.sign(predictions[i] - predictions[i-1]) == np.sign(true_values[i] - true_values[i-1]))
    directional_accuracy = correct_directions / (min_len - 1)
    return directional_accuracy

# Function to calculate Mean Absolute Error (MAE)
def calculate_mae(predictions, true_values):
    min_len = min(len(predictions), len(true_values))
    mae = np.mean(np.abs(predictions[:min_len] - true_values[:min_len]))
    return mae

# Main function
def main():
    try:
        # User input for stock symbol
        ticker = input("Enter the stock symbol (e.g., AAPL): ").upper()

        start_date = '2021-01-01'
        end_date = '2024-01-01'
        window_size = 60
        epochs = 100
        batch_size = 32

        # Download data
        data = download_stock_data(ticker, start_date, end_date)

        # Plot closing price history
        plot_close_price_history(data)

        # Create a new dataframe with Close and Volume columns
        close_data = data.filter(['Close', 'Volume'])

        # Add technical indicators
        close_data = add_technical_indicators(close_data)
        close_data = close_data.dropna()

        close_values = close_data.values

        # Prepare training data with additional features
        x_train, y_train, scaler, close_scaler = prepare_training_data(close_values, window_size)
        num_features = close_values.shape[1]  # Number of features including close price

        # Build and train LSTM model
        model = build_lstm_model(window_size, num_features)
        history = train_lstm_model(model, x_train, y_train, epochs, batch_size)

        # Prepare test data
        x_test = prepare_test_data(close_values, scaler, window_size)

        # Make predictions
        predictions = make_predictions(model, x_test, close_scaler)

        # Calculate DA
        da = calculate_da(predictions, close_data['Close'].values[window_size:])
        print(f"Directional Accuracy (DA): {da}")

        # Calculate MAE
        mae = calculate_mae(predictions, close_data['Close'].values[window_size:])
        print(f"Mean Absolute Error (MAE): {mae}")

        # Print the last predicted price
        print("Final predicted price:", predictions[-1])

    except Exception as e:
        print("An error occurred:", str(e))

if __name__ == "__main__":
    main()

