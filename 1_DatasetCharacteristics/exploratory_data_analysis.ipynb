{
 "cells": [
  {
   "cell_type": "markdown",
   "metadata": {},
   "source": [
    "# Exploratory Data Analysis (EDA)\n",
    "\n",
    "## Table of Contents\n",
    "1. [Dataset Overview](#dataset-overview)\n",
    "2. [Handling Missing Values](#handling-missing-values)\n",
    "3. [Feature Distributions](#feature-distributions)\n",
    "4. [Possible Biases](#possible-biases)\n",
    "5. [Correlations](#correlations)\n"
   ]
  },
  {
   "cell_type": "markdown",
   "metadata": {},
   "source": [
    "## Dataset Overview\n",
    "\n",
    "```python\n",
    "# Download stock data\n",
    "ticker = 'AAPL'\n",
    "start_date = '2021-01-01'\n",
    "end_date = '2024-01-01'\n",
    "data = yf.download(ticker, start=start_date, end=end_date)\n",
    "\n",
    "# Add technical indicators\n",
    "data['SMA'] = ta.trend.sma_indicator(data['Close'], window=15)\n",
    "data['EMA'] = ta.trend.ema_indicator(data['Close'], window=15)\n",
    "data['RSI'] = ta.momentum.rsi(data['Close'], window=14)\n",
    "data['MACD'] = ta.trend.macd_diff(data['Close'])\n",
    "data['Bollinger_High'] = ta.volatility.bollinger_hband(data['Close'])\n",
    "data['Bollinger_Low'] = ta.volatility.bollinger_lband(data['Close'])\n",
    "\n",
    "# Drop NA values\n",
    "data.dropna(inplace=True)\n",
    "\n",
    "# Print dataset overview\n",
    "print(\"Dataset Overview:\")\n",
    "print(data.info())\n",
    "print(data.head())\n",
    "```\n"
   ]
  },
  {
   "cell_type": "markdown",
   "metadata": {},
   "source": [
    "## Handling Missing Values\n",
    "\n",
    "```python\n",
    "# Check for missing values\n",
    "print(\"Handling Missing Values:\")\n",
    "print(\"Missing Values:\\n\", data.isnull().sum())\n",
    "\n",
    "# Handle missing values\n",
    "# Example: fill missing values with mean or median\n",
    "data.fillna(data.mean(), inplace=True)\n",
    "print(\"Missing Values Handled:\\n\", data.isnull().sum())\n",
    "```\n"
   ]
  },
  {
   "cell_type": "markdown",
   "metadata": {},
   "source": [
    "## Feature Distributions\n",
    "\n",
    "```python\n",
    "# Feature distributions\n",
    "print(\"Feature Distributions:\")\n",
    "data.hist(figsize=(20, 10))\n",
    "plt.tight_layout()\n",
    "plt.show()\n",
    "\n",
    "# Box plots\n",
    "print(\"Box Plots:\")\n",
    "data[['Close', 'Volume', 'SMA', 'EMA', 'RSI', 'MACD']].plot(kind='box', subplots=True, layout=(2, 3), figsize=(15, 10))\n",
    "plt.tight_layout()\n",
    "plt.show()\n",
    "\n",
    "# Density plots\n",
    "print(\"Density Plots:\")\n",
    "data[['Close', 'Volume', 'SMA', 'EMA', 'RSI', 'MACD']].plot(kind='density', subplots=True, layout=(2, 3), figsize=(15, 10))\n",
    "plt.tight_layout()\n",
    "plt.show()\n",
    "```\n"
   ]
  },
  {
   "cell_type": "markdown",
   "metadata": {},
   "source": [
    "## Possible Biases\n",
    "\n",
    "```python\n",
    "# Assess for possible biases\n",
    "# Example: check for time-based bias\n",
    "print(\"Possible Biases:\")\n",
    "print(data.resample('Y').mean())\n",
    "```\n"
   ]
  },
  {
   "cell_type": "markdown",
   "metadata": {},
   "source": [
    "## Correlations\n",
    "\n",
    "```python\n",
    "# Correlation matrix\n",
    "print(\"Correlation Matrix:\")\n",
    "correlation_matrix = data.corr()\n",
    "sns.heatmap(correlation_matrix, annot=True, cmap='coolwarm')\n",
    "plt.title('Correlation Matrix')\n",
    "plt.tight_layout()\n",
    "plt.show()\n",
    "```\n"
   ]
  }
 ]
}
