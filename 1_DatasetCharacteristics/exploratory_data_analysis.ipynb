{
 "cells": [
  {
   "cell_type": "markdown",
   "metadata": {},
   "source": [
    "# Dataset Characteristics\n",
    "This notebook provides an overview of the dataset characteristics used for stock price prediction.\n",
    "\n",
    "## Source\n",
    "Historical stock data is downloaded from Yahoo Finance using the yfinance library.\n",
    "\n",
    "## Time Frame\n",
    "The data spans from January 1, 2021, to January 1, 2024.\n",
    "\n",
    "## Attributes/Features\n",
    "- **Date**: The specific trading day.\n",
    "- **Open**: The opening price of the stock on the trading day.\n",
    "- **High**: The highest price of the stock during the trading day.\n",
    "- **Low**: The lowest price of the stock during the trading day.\n",
    "- **Close**: The closing price of the stock on the trading day.\n",
    "- **Volume**: The number of shares traded during the trading day.\n",
    "\n",
    "### Technical Indicators\n",
    "- **SMA (Simple Moving Average)**: Calculated over a 15-day window.\n",
    "- **EMA (Exponential Moving Average)**: Calculated over a 15-day window.\n",
    "- **RSI (Relative Strength Index)**: Calculated over a 14-day window.\n",
    "- **MACD (Moving Average Convergence Divergence) Diff**: The difference between the MACD line and the signal line.\n",
    "- **Bollinger High Band**: Upper band of Bollinger Bands calculated over a specific window.\n",
    "- **Bollinger Low Band**: Lower band of Bollinger Bands calculated over a specific window.\n",
    "\n",
    "## Data Preparation\n",
    "- The dataset is preprocessed to include technical indicators and drop any rows with missing values.\n",
    "- **Feature Scaling**: RobustScaler is used to scale the features to handle outliers more effectively.\n",
    "- **Training Data**: Prepared by creating sliding windows of a specified size (60 days in this case), containing sequences of features used to predict the next day's closing price.\n",
    "\n",
    "## Training and Test Split\n",
    "- The training dataset consists of sequences formed from the scaled historical data, used to train the LSTM model.\n",
    "- The test dataset consists of sequences formed similarly, used to evaluate the model's predictions.\n",
    "\n",
    "## Data Preprocessing Steps\n",
    "- **Download Data**: Historical stock data is downloaded for the given time frame.\n",
    "- **Add Technical Indicators**: Calculate SMA, EMA, RSI, MACD, Bollinger Bands, etc., and add them as new columns to the dataset.\n",
    "- **Handle Missing Values**: Drop rows with missing values resulting from technical indicator calculations.\n",
    "- **Feature Scaling**: Apply RobustScaler to scale features to ensure they have a consistent range and reduce the impact of outliers.\n",
    "- **Windowing**: Create sequences of window_size days to use as input features for the LSTM model, with the target being the closing price of the next day."
   ]
  }
 ],
 "metadata": {
  "kernelspec": {
   "display_name": "Python 3",
   "language": "python",
   "name": "python3"
  },
  "language_info": {
   "codemirror_mode": {
    "name": "ipython",
    "version": 3
   },
   "file_extension": ".py",
   "mimetype": "text/x-python",
   "name": "python",
   "nbconvert_exporter": "python",
   "pygments_lexer": "ipython3",
   "version": "3.8.5"
  }
 },
 "nbformat": 4,
 "nbformat_minor": 5
}
